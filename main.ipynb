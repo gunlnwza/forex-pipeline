{
 "cells": [
  {
   "cell_type": "code",
   "execution_count": 1,
   "metadata": {},
   "outputs": [],
   "source": [
    "import pandas as pd\n",
    "\n",
    "from src.backtest import VectorizedBacktester\n",
    "from src.strategy import SMACrossover"
   ]
  },
  {
   "cell_type": "code",
   "execution_count": 2,
   "metadata": {},
   "outputs": [
    {
     "name": "stdout",
     "output_type": "stream",
     "text": [
      "profit          1.471200e-01\n",
      "loss           -1.059800e-01\n",
      "pnl             4.114000e-02\n",
      "win_trades      1.000000e+01\n",
      "loss_trades     1.100000e+01\n",
      "total_trades    2.100000e+01\n",
      "win_rate        4.761905e-01\n",
      "mean            1.959048e-03\n",
      "std            -3.097720e-19\n",
      "sharpe          5.823945e+16\n",
      "dtype: float64\n"
     ]
    }
   ],
   "source": [
    "# from src.loaders import PolygonDataLoader\n",
    "# loader = PolygonDataLoader()\n",
    "# data = loader.download([\"AUDUSD\", \"GBPUSD\"], start=\"2023-01-01\")\n",
    "# print(data)\n",
    "\n",
    "\n",
    "df = pd.read_csv(\"data/raw/polygon/EURUSD.csv\", index_col=\"timestamp\")\n",
    "bt = VectorizedBacktester(df)\n",
    "strategy = SMACrossover()\n",
    "result = bt.run(strategy)\n",
    "print(result)\n"
   ]
  },
  {
   "cell_type": "code",
   "execution_count": null,
   "metadata": {},
   "outputs": [],
   "source": []
  }
 ],
 "metadata": {
  "kernelspec": {
   "display_name": "venv",
   "language": "python",
   "name": "python3"
  },
  "language_info": {
   "codemirror_mode": {
    "name": "ipython",
    "version": 3
   },
   "file_extension": ".py",
   "mimetype": "text/x-python",
   "name": "python",
   "nbconvert_exporter": "python",
   "pygments_lexer": "ipython3",
   "version": "3.13.1"
  }
 },
 "nbformat": 4,
 "nbformat_minor": 2
}
